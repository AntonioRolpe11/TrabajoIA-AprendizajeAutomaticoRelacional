{
 "cells": [
  {
   "cell_type": "code",
   "execution_count": 13,
   "id": "ee18b7d5-97f9-4b73-a2d5-eb29ea32fa71",
   "metadata": {},
   "outputs": [],
   "source": [
    "import pandas as pd\n",
    "import networkx as nx\n"
   ]
  },
  {
   "cell_type": "code",
   "execution_count": 9,
   "id": "23332b31-84d5-4bec-9c6a-86264353fc23",
   "metadata": {},
   "outputs": [],
   "source": [
    "edges=pd.read_csv('edges.csv')\n",
    "vertices=pd.read_csv('nodes.csv')"
   ]
  },
  {
   "cell_type": "code",
   "execution_count": 10,
   "id": "3841cc82-9073-4b50-abc7-b57dffa83530",
   "metadata": {},
   "outputs": [
    {
     "data": {
      "text/html": [
       "<div>\n",
       "<style scoped>\n",
       "    .dataframe tbody tr th:only-of-type {\n",
       "        vertical-align: middle;\n",
       "    }\n",
       "\n",
       "    .dataframe tbody tr th {\n",
       "        vertical-align: top;\n",
       "    }\n",
       "\n",
       "    .dataframe thead th {\n",
       "        text-align: right;\n",
       "    }\n",
       "</style>\n",
       "<table border=\"1\" class=\"dataframe\">\n",
       "  <thead>\n",
       "    <tr style=\"text-align: right;\">\n",
       "      <th></th>\n",
       "      <th>source</th>\n",
       "      <th>target</th>\n",
       "    </tr>\n",
       "  </thead>\n",
       "  <tbody>\n",
       "    <tr>\n",
       "      <th>0</th>\n",
       "      <td>Baron Zemo</td>\n",
       "      <td>Blackout (Marcus Daniels)</td>\n",
       "    </tr>\n",
       "    <tr>\n",
       "      <th>1</th>\n",
       "      <td>Baron Zemo</td>\n",
       "      <td>Vermin (comics)</td>\n",
       "    </tr>\n",
       "    <tr>\n",
       "      <th>2</th>\n",
       "      <td>N'astirh</td>\n",
       "      <td>S'ym</td>\n",
       "    </tr>\n",
       "    <tr>\n",
       "      <th>3</th>\n",
       "      <td>N'astirh</td>\n",
       "      <td>Belasco (Marvel Comics)</td>\n",
       "    </tr>\n",
       "    <tr>\n",
       "      <th>4</th>\n",
       "      <td>N'astirh</td>\n",
       "      <td>Madelyne Pryor</td>\n",
       "    </tr>\n",
       "  </tbody>\n",
       "</table>\n",
       "</div>"
      ],
      "text/plain": [
       "       source                     target\n",
       "0  Baron Zemo  Blackout (Marcus Daniels)\n",
       "1  Baron Zemo            Vermin (comics)\n",
       "2    N'astirh                       S'ym\n",
       "3    N'astirh    Belasco (Marvel Comics)\n",
       "4    N'astirh             Madelyne Pryor"
      ]
     },
     "execution_count": 10,
     "metadata": {},
     "output_type": "execute_result"
    }
   ],
   "source": [
    "edges.head()"
   ]
  },
  {
   "cell_type": "code",
   "execution_count": 11,
   "id": "d61a98af-e23a-422f-8bba-fdac630d9534",
   "metadata": {},
   "outputs": [
    {
     "data": {
      "text/html": [
       "<div>\n",
       "<style scoped>\n",
       "    .dataframe tbody tr th:only-of-type {\n",
       "        vertical-align: middle;\n",
       "    }\n",
       "\n",
       "    .dataframe tbody tr th {\n",
       "        vertical-align: top;\n",
       "    }\n",
       "\n",
       "    .dataframe thead th {\n",
       "        text-align: right;\n",
       "    }\n",
       "</style>\n",
       "<table border=\"1\" class=\"dataframe\">\n",
       "  <thead>\n",
       "    <tr style=\"text-align: right;\">\n",
       "      <th></th>\n",
       "      <th>group</th>\n",
       "      <th>id</th>\n",
       "      <th>size</th>\n",
       "    </tr>\n",
       "  </thead>\n",
       "  <tbody>\n",
       "    <tr>\n",
       "      <th>0</th>\n",
       "      <td>1</td>\n",
       "      <td>Baron Zemo</td>\n",
       "      <td>2</td>\n",
       "    </tr>\n",
       "    <tr>\n",
       "      <th>1</th>\n",
       "      <td>1</td>\n",
       "      <td>N'astirh</td>\n",
       "      <td>3</td>\n",
       "    </tr>\n",
       "    <tr>\n",
       "      <th>2</th>\n",
       "      <td>0</td>\n",
       "      <td>Silver Sable</td>\n",
       "      <td>1</td>\n",
       "    </tr>\n",
       "    <tr>\n",
       "      <th>3</th>\n",
       "      <td>0</td>\n",
       "      <td>Hope Summers (comics)</td>\n",
       "      <td>1</td>\n",
       "    </tr>\n",
       "    <tr>\n",
       "      <th>4</th>\n",
       "      <td>0</td>\n",
       "      <td>Magik (Illyana Rasputin)</td>\n",
       "      <td>1</td>\n",
       "    </tr>\n",
       "  </tbody>\n",
       "</table>\n",
       "</div>"
      ],
      "text/plain": [
       "   group                        id  size\n",
       "0      1                Baron Zemo     2\n",
       "1      1                  N'astirh     3\n",
       "2      0              Silver Sable     1\n",
       "3      0     Hope Summers (comics)     1\n",
       "4      0  Magik (Illyana Rasputin)     1"
      ]
     },
     "execution_count": 11,
     "metadata": {},
     "output_type": "execute_result"
    }
   ],
   "source": [
    "vertices.head()"
   ]
  },
  {
   "cell_type": "code",
   "execution_count": 41,
   "id": "d3853418-9595-4968-adc5-85315db32bd9",
   "metadata": {},
   "outputs": [],
   "source": [
    "G=nx.Graph()\n",
    "for _, row in vertices.iterrows():\n",
    "    G.add_node(row['id'])\n",
    "for _, row in edges.iterrows():\n",
    "    G.add_edge(row['source'], row['target'])\n"
   ]
  },
  {
   "cell_type": "code",
   "execution_count": 37,
   "id": "81823eb7-0a7a-4454-8ff5-58ee14323e97",
   "metadata": {},
   "outputs": [
    {
     "name": "stdout",
     "output_type": "stream",
     "text": [
      "Counter({2: 30, 3: 11, 4: 5, 5: 4, 6: 3, 7: 1, 181: 1, 11: 1})\n"
     ]
    }
   ],
   "source": [
    "from collections import Counter\n",
    "\n",
    "tam = Counter(len(c) for c in nx.connected_components(G))\n",
    "\n",
    "print(tam)\n"
   ]
  },
  {
   "cell_type": "code",
   "execution_count": 40,
   "id": "863ed5a9-e4ab-496c-ba0a-e04e4f152016",
   "metadata": {},
   "outputs": [
    {
     "data": {
      "text/plain": [
       "Counter({1: 194, 0: 121, 2: 35})"
      ]
     },
     "execution_count": 40,
     "metadata": {},
     "output_type": "execute_result"
    }
   ],
   "source": [
    "Counter(v['group'] for _,v in vertices.iterrows())"
   ]
  },
  {
   "cell_type": "code",
   "execution_count": null,
   "id": "6bef25f5-c35b-4799-9717-8412578b733d",
   "metadata": {},
   "outputs": [],
   "source": []
  }
 ],
 "metadata": {
  "kernelspec": {
   "display_name": "Python 3 (ipykernel)",
   "language": "python",
   "name": "python3"
  },
  "language_info": {
   "codemirror_mode": {
    "name": "ipython",
    "version": 3
   },
   "file_extension": ".py",
   "mimetype": "text/x-python",
   "name": "python",
   "nbconvert_exporter": "python",
   "pygments_lexer": "ipython3",
   "version": "3.11.9"
  }
 },
 "nbformat": 4,
 "nbformat_minor": 5
}
